{
 "cells": [
  {
   "cell_type": "code",
   "execution_count": 2,
   "metadata": {},
   "outputs": [],
   "source": [
    "\n",
    "\"\"\"\n",
    "Points system\n",
    "Format:\n",
    "    Tax, Box, Location, Transportation, SuperBowl\n",
    "\"\"\"\n",
    "\n",
    "foe = ((0,20,30,50),(40,10,0,0),(75,100,0),(0,40,30,10),(40,20,10,0))\n",
    "union = ((25,10,25,0),(30,20,10,0),(10,0,10),(0,40,40,80),(0,10,20,30))\n",
    "chamber = ((50,5,30,0),(0,10,30,70),(60,20,0),(0,0,40,10),(0,10,20,40))\n",
    "city = ((90,40,40,0),(60,40,10,0),(60,20,0),(50,20,20,0),(0,20,40,60))\n",
    "team = ((0,70,50,100),(0,20,40,60),(0,45,75),(50,0,0,0),(5,10,15,20))\n",
    "\n",
    "\n",
    "\"\"\"\n",
    "Policy system\n",
    "Format:\n",
    "    Five letter code for each policy.\n",
    "    Use x for don't care. (the script will explore.)\n",
    "    Use ABCD to fix a policy choice.\n",
    "    \n",
    "Example:\n",
    "    'xxxxx' -> Explore all policies.\n",
    "    'ABxxx' -> Fix Tax choice to A, Box choice to B and explore remaining choices.\n",
    "\"\"\"\n",
    "\n",
    "istr = 'xxxxx'\n",
    "\n",
    "if len(istr)!=5:\n",
    "    print(\"Bad input: `{}'\".format(istr))\n",
    "    exit(9)\n",
    "\n"
   ]
  },
  {
   "cell_type": "code",
   "execution_count": 3,
   "metadata": {},
   "outputs": [
    {
     "name": "stdout",
     "output_type": "stream",
     "text": [
      "768 policies explored.\n",
      "Maximum points achievable is 790\n",
      "There are 2 policies:\n",
      "Candidate policy: ['C', 'A', 'A', 'C', 'D']\n",
      "Candidate policy: ['C', 'D', 'A', 'C', 'D']\n"
     ]
    }
   ],
   "source": [
    "parties = (foe,union,chamber,city,team)\n",
    "policies = []\n",
    "cutoff = []\n",
    "\n",
    "import itertools\n",
    "\n",
    "for i in range(5):\n",
    "    if istr[i] in 'ABCD':\n",
    "        cutoff.append(('ABCD'.index(istr[i]),))\n",
    "    else:\n",
    "        cutoff.append(range(4))\n",
    "\n",
    "for s in itertools.product(*cutoff):\n",
    "    if s[2]==3:\n",
    "        continue\n",
    "    total = 0\n",
    "    for pp in parties:\n",
    "        total += sum([x[y] for x,y in zip(pp, s)])\n",
    "    policies.append((total, s))\n",
    "\n",
    "policies.sort(key=lambda x: x[0], reverse=True)\n",
    "pm = policies[0]\n",
    "eq = [x for x in policies if x[0]==pm[0]]\n",
    "\n",
    "print(\"{} policies explored.\".format(len(policies)))\n",
    "if len(eq)>1:\n",
    "    print(\"Maximum points achievable is {}\".format(pm[0]))\n",
    "    print(\"There are {} policies:\".format(len(eq)))\n",
    "    for e in eq:\n",
    "        print(\"Candidate policy: {}\".\n",
    "            format([\"ABCD\"[c] for c in e[1]]))\n",
    "else:\n",
    "    print(\"Maximum points of {} achieved by {}\".\n",
    "        format(pm[0], [\"ABCD\"[c] for c in pm[1]]))\n"
   ]
  },
  {
   "cell_type": "code",
   "execution_count": null,
   "metadata": {},
   "outputs": [],
   "source": []
  }
 ],
 "metadata": {
  "kernelspec": {
   "display_name": "Python 3",
   "language": "python",
   "name": "python3"
  },
  "language_info": {
   "codemirror_mode": {
    "name": "ipython",
    "version": 3
   },
   "file_extension": ".py",
   "mimetype": "text/x-python",
   "name": "python",
   "nbconvert_exporter": "python",
   "pygments_lexer": "ipython3",
   "version": "3.7.7"
  }
 },
 "nbformat": 4,
 "nbformat_minor": 4
}
