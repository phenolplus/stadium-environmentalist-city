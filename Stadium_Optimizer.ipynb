{
 "cells": [
  {
   "cell_type": "code",
   "execution_count": 18,
   "metadata": {},
   "outputs": [],
   "source": [
    "\n",
    "\"\"\"\n",
    "Points system\n",
    "Format:\n",
    "    Tax, Box, Location, Transportation, SuperBowl\n",
    "\"\"\"\n",
    "\n",
    "foe = ((0,20,30,50),(40,10,0,0),(75,100,0),(0,40,30,10),(40,20,10,0))\n",
    "union = ((25,10,25,0),(30,20,10,0),(10,0,10),(0,40,40,80),(0,10,20,30))\n",
    "chamber = ((50,5,30,0),(0,10,30,70),(60,20,0),(0,0,40,10),(0,10,20,40))\n",
    "city = ((90,40,40,0),(60,40,10,0),(60,20,0),(50,20,20,0),(0,20,40,60))\n",
    "team = ((0,70,50,100),(0,20,40,60),(0,45,75),(50,0,0,0),(5,10,15,20))\n",
    "league = ((0,30,30,50),(0,10,20,20),(50,0,20),(0,0,30,30),(60,40,20,0))\n",
    "\n",
    "\"\"\"\n",
    "Reservation points\n",
    "Foramat:\n",
    "    (party, RP)\n",
    "\"\"\"\n",
    "\n",
    "parties = ((foe, 85),\n",
    "           (union, 90),\n",
    "           (chamber, -1),\n",
    "           (city, -1),\n",
    "           (team, -1),\n",
    "           (league, -1),)\n",
    "\n",
    "\"\"\"\n",
    "Policy system\n",
    "Format:\n",
    "    Five letter code for each policy.\n",
    "    Use x for don't care. (the script will explore.)\n",
    "    Use ABCD to fix a policy choice.\n",
    "    \n",
    "Example:\n",
    "    'xxxxx' -> Explore all policies.\n",
    "    'ABxxx' -> Fix Tax choice to A, Box choice to B and explore remaining choices.\n",
    "\"\"\"\n",
    "\n",
    "istr = 'xxxxx'\n",
    "\n",
    "if len(istr)!=5:\n",
    "    print(\"Bad input: `{}'\".format(istr))\n",
    "    exit(9)\n",
    "\n"
   ]
  },
  {
   "cell_type": "code",
   "execution_count": 19,
   "metadata": {},
   "outputs": [
    {
     "name": "stdout",
     "output_type": "stream",
     "text": [
      "768 policies explored.\n",
      "Maximum points of 920 achieved by ['C', 'D', 'A', 'C', 'D']\n"
     ]
    }
   ],
   "source": [
    "\n",
    "policies = []\n",
    "cutoff = []\n",
    "\n",
    "import itertools\n",
    "\n",
    "for i in range(5):\n",
    "    if istr[i] in 'ABCD':\n",
    "        cutoff.append(('ABCD'.index(istr[i]),))\n",
    "    else:\n",
    "        cutoff.append(range(4))\n",
    "\n",
    "for ss in itertools.product(*cutoff):\n",
    "    if ss[2]==3:\n",
    "        continue\n",
    "    total = 0\n",
    "    nogo = False\n",
    "    for pp in parties:\n",
    "        s = sum([x[y] for x,y in zip(pp[0], ss)])\n",
    "        if s < pp[1]:\n",
    "            nogo = True\n",
    "            break\n",
    "        total += s\n",
    "    if nogo:\n",
    "        total = -1\n",
    "    policies.append((total, ss))\n",
    "\n",
    "policies.sort(key=lambda x: x[0], reverse=True)\n",
    "pm = policies[0]\n",
    "eq = [x for x in policies if x[0]==pm[0]]\n",
    "\n",
    "print(\"{} policies explored.\".format(len(policies)))\n",
    "if len(eq)>1:\n",
    "    print(\"Maximum points achievable is {}\".format(pm[0]))\n",
    "    print(\"There are {} policies:\".format(len(eq)))\n",
    "    for e in eq:\n",
    "        print(\"Candidate policy: {}\".\n",
    "            format([\"ABCD\"[c] for c in e[1]]))\n",
    "else:\n",
    "    print(\"Maximum points of {} achieved by {}\".\n",
    "        format(pm[0], [\"ABCD\"[c] for c in pm[1]]))\n"
   ]
  },
  {
   "cell_type": "code",
   "execution_count": 21,
   "metadata": {},
   "outputs": [
    {
     "name": "stdout",
     "output_type": "stream",
     "text": [
      "Maximum points = 920\n",
      "Policy:\n",
      "                 Tax: C\n",
      "          Luxury Box: D\n",
      "            Location: A\n",
      "      Transportation: C\n",
      "           Superbowl: D\n",
      "      \n",
      "Groups breakdown:\n",
      "30 +0 +75 +30 +0 = 135 > 85\n",
      "25 +0 +10 +40 +30 = 105 > 90\n",
      "30 +70 +60 +40 +40 = 240 > -1\n",
      "40 +0 +60 +20 +60 = 180 > -1\n",
      "50 +60 +0 +0 +20 = 130 > -1\n",
      "30 +20 +50 +30 +0 = 130 > -1\n"
     ]
    }
   ],
   "source": [
    "bd = pm\n",
    "print(\"Maximum points = {}\".format(bd[0]))\n",
    "print(\"\"\"Policy:\n",
    "                 Tax: {}\n",
    "          Luxury Box: {}\n",
    "            Location: {}\n",
    "      Transportation: {}\n",
    "           Superbowl: {}\n",
    "      \"\"\".format(*[\"ABCD\"[c] for c in bd[1]]))\n",
    "\n",
    "print(\"Groups breakdown:\")\n",
    "for pp in parties:\n",
    "        s = [x[y] for x,y in zip(pp[0], bd[1])]\n",
    "        print(\"{} = {} > {}\".format(' +'.join([str(x) for x in s]), sum(s), pp[1]))"
   ]
  },
  {
   "cell_type": "code",
   "execution_count": null,
   "metadata": {},
   "outputs": [],
   "source": []
  }
 ],
 "metadata": {
  "kernelspec": {
   "display_name": "Python 3",
   "language": "python",
   "name": "python3"
  },
  "language_info": {
   "codemirror_mode": {
    "name": "ipython",
    "version": 3
   },
   "file_extension": ".py",
   "mimetype": "text/x-python",
   "name": "python",
   "nbconvert_exporter": "python",
   "pygments_lexer": "ipython3",
   "version": "3.7.7"
  }
 },
 "nbformat": 4,
 "nbformat_minor": 4
}
